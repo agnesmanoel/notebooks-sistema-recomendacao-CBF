{
 "cells": [
  {
   "cell_type": "markdown",
   "metadata": {},
   "source": [
    "# Neighbors Módulo"
   ]
  },
  {
   "cell_type": "markdown",
   "metadata": {},
   "source": [
    "o módulo sklearn.neighbors do Scikit-learn oferece ferramentas que aplicam o conceito de \"vizinhos mais próximos\" tanto para fins supervisionados quanto não supervisionados.\n",
    "\n",
    "\n",
    "Antes de entrarmos afundo sobre algumas classes dentro do módulo neighboors, vamos destrinchar alguns conceitos para entendermos qual será a abordagem mais adequada para nosso projeto."
   ]
  },
  {
   "cell_type": "markdown",
   "metadata": {},
   "source": [
    "## Tipos de aprendizados em Machine Learning"
   ]
  },
  {
   "cell_type": "markdown",
   "metadata": {},
   "source": [
    "    Aprendizado Supervisionado - Supervised Learning"
   ]
  },
  {
   "cell_type": "markdown",
   "metadata": {},
   "source": [
    "Supervised learning é uma técnica de apendizado de máquina que usa conjuntos de dados de entrada e saída previamente rotuladas/categorizadas por humanos para treinar modelos de inteligência artifical. O modelo aprende as relações presentes entre um dado de etrada e saída, permitindo que ele possa prever novos dados de saída baseado em dados não rotulados do mundo real.\n",
    "\n",
    "Ele tem como objetivo prever um output, uma vez que aprendemos com as rotulações de um conjunto de dados rotulados."
   ]
  },
  {
   "cell_type": "markdown",
   "metadata": {},
   "source": [
    "Exemplo: Você dá um conjunto de fotos de cachorros com rótulo cachorro e gatos com rótulo gatos. O seu modelo vai analisar todos esse dados de ponta a ponta - pixel por pixel - e identificar um padrão entre cada rótulo e seus respectivos conjunto de dados. Com isso, uma vez treinado, agora seu modelo consegue receber novas fotos não rotuladas e conseguir classificá-las. "
   ]
  },
  {
   "cell_type": "markdown",
   "metadata": {},
   "source": [
    "fonte e mais infos: https://www.ibm.com/think/topics/supervised-vs-unsupervised-learning, https://www.ibm.com/think/topics/supervised-learning#:~:text=Supervised%20learning%20is%20a%20machine,unlabeled%20real%2Dworld%20input%20data.\n"
   ]
  },
  {
   "cell_type": "markdown",
   "metadata": {},
   "source": [
    "    Aprendizado não Supervisionado - Unsepervised Learning"
   ]
  },
  {
   "cell_type": "markdown",
   "metadata": {},
   "source": [
    "Aprendizado não supervisionado é um método de aprendizado de maquina onde temos algoritmos que analisam e agrupram (\"clusterizam\") dados não rotulados. Esses algoritmos descobrem padrões não declarados por sí só, sem precisar da intervenção humana. \n",
    "\n",
    "Ele tem como objetivo entender padrões dos dados não rotulados."
   ]
  },
  {
   "cell_type": "markdown",
   "metadata": {},
   "source": [
    "exemplo: Um modelo recebe milhares de notícias sem categoria e, ao analisar os textos, identifica os assuntos em comum. Por conta própria, ele agrupa as notícias sobre política em um grupo e as sobre esportes em outro, permitindo que um portal organize seu conteúdo por tópicos de forma automática."
   ]
  },
  {
   "cell_type": "markdown",
   "metadata": {},
   "source": [
    "fonte e mais infos: https://www.ibm.com/think/topics/supervised-vs-unsupervised-learning, https://www.ibm.com/think/topics/supervised-learning#:~:text=Supervised%20learning%20is%20a%20machine,unlabeled%20real%2Dworld%20input%20data."
   ]
  },
  {
   "cell_type": "markdown",
   "metadata": {},
   "source": [
    "## K-Nearest Neighboors Algorithm - KNN"
   ]
  },
  {
   "cell_type": "markdown",
   "metadata": {},
   "source": [
    "---    \n",
    "\n",
    "\"Diga-me com quem andas, que eu te direi quem és\"   - alguém aí\n",
    "\n",
    "----"
   ]
  },
  {
   "cell_type": "markdown",
   "metadata": {},
   "source": [
    "Esse algoritmo é o que rege nosso módulo. Ele abrrange tanto abordagens supervisionadas quanto não supervisionadas.  Com isso, é fundamental diferenciar como cada abordagem funciona dentro do mesmo conceito de \"proximidade\".\n",
    "\n",
    "1. Abordagem Não Supervisionada\n",
    "\n",
    "    Nesta aplicação, o objetivo é  encontrar os vizinhos mais próximos de um ponto de dados. Usamos ferramentas como o NearestNeighbors do Scikit-learn para analisar a estrutura e a proximidade dos dados, sem usar nenhum rótulo. É uma busca geométrica para responder: \"Quem é mais parecido com quem?\".\n",
    "\n",
    "2. Abordagem Supervisionada\n",
    "\n",
    "    Aqui, o objetivo é prever um resultado. O processo também encontra os vizinhos mais próximos, mas depois utiliza os rótulos (as \"respostas corretas\") desses vizinhos para fazer uma previsão sobre um novo dado.\n",
    "\n",
    "    Classificação: Com o KNeighborsClassifier, o algoritmo atribui a classe mais comum entre os vizinhos (votação).\n",
    "\n",
    "    Regressão: Com o KNeighborsRegressor, ele calcula a média dos valores dos vizinhos.\n",
    "    \n",
    "    Portanto, a família de algoritmos KNN usa a distância como princípio central, seja para descrever a estrutura dos dados (não supervisionado) ou para prever resultados (supervisionado).\n",
    "\n",
    "\n"
   ]
  },
  {
   "cell_type": "markdown",
   "metadata": {},
   "source": [
    "info: https://www.geeksforgeeks.org/k-nearest-neighbours/\n",
    "\n",
    "video muito legal que me ajudou a entender previamente: https://www.youtube.com/watch?v=v5CcxPiYSlA\n"
   ]
  },
  {
   "cell_type": "markdown",
   "metadata": {},
   "source": [
    "## Algumas ferramentas"
   ]
  },
  {
   "cell_type": "markdown",
   "metadata": {},
   "source": [
    "### NearestNeighboor()"
   ]
  },
  {
   "cell_type": "markdown",
   "metadata": {},
   "source": [
    "Ferramente que aplica uma abordagem _não supervisionada_ para encontrar os K vizinhos mais próximos de um dado. "
   ]
  },
  {
   "cell_type": "markdown",
   "metadata": {},
   "source": [
    "class sklearn.neighbors.NearestNeighbors(*, n_neighbors=5, radius=1.0, algorithm='auto', leaf_size=30, metric='minkowski', p=2, metric_params=None, n_jobs=None)"
   ]
  },
  {
   "cell_type": "code",
   "execution_count": 1,
   "metadata": {},
   "outputs": [
    {
     "name": "stdout",
     "output_type": "stream",
     "text": [
      "[[1]]\n"
     ]
    }
   ],
   "source": [
    "#Exemplo de uso\n",
    "\n",
    "from sklearn.neighbors import NearestNeighbors\n",
    "\n",
    "#linha 1\n",
    "X = [[0,1,1,1], [1,1,1,1], [0,0,0,1],[0,0,1,1]]\n",
    "\n",
    "#linha 2\n",
    "recommender = NearestNeighbors(n_neighbors=1, metric='cosine')\n",
    "\n",
    "#linha 3\n",
    "recommender.fit(X)\n",
    "\n",
    "#linha 4\n",
    "proximo = recommender.kneighbors([[1,1,1,0]],return_distance=False)\n",
    "\n",
    "#linha 5\n",
    "print(proximo)"
   ]
  },
  {
   "cell_type": "markdown",
   "metadata": {},
   "source": [
    "    Entendendo o que esse trecho faz\n",
    "\n",
    "1. Na linha 1:\n",
    "estamos definindo qual será a nossa vizinhanda, com X a nossa lista de vetores.\n",
    "\n",
    "2. Na linha 2:\n",
    "estamos instanciando a classe responsável por implementar esse algoritmo. Aqui definimos os parâmetros e métricas que queremos usar na hora de acharmos os nossos k vizinhos.\n",
    "\n",
    "3. Na linha 3:\n",
    "aplicamos o método fit. Aqui é onde ocorre o treinamento do algoritmo em função da nossa vizinhança - ele associa cada dado a um ponto de n dimensões, no nosso caso um ponto de 4 dimensões, onde cada eixo é um indice do vetor. Da documentação: _\"Fit the nearest neighbors estimator from the training dataset.\"_  \n",
    " \n",
    "    -> Recebe: O método recebe um array-like ou uma matriz sparsa, de tamanho n samples e n features.\n",
    "\n",
    "    -> Retorna: O método retorna The fitted nearest neighbors estimator.\n",
    "\n",
    "\n",
    "4. linha 4:\n",
    "    Aplicamos o metodo kneighboors. Aqui acontece a mágica: A partir de um ponto a nossa classe recommender já treinada com nosso conjunto de dados entitulado X, acha os K vizinhos mais próximos desse ponto.\n",
    "\n",
    "    -> Recebe: Pode receber um array-like ou uma matriz-esparsa representado nosso ponto. Se não passado neighbors of each indexed point are returned. In this case, the query point is not considered its own neighbor; Pode receber também a quantidade K de vizinhos a ser achado para cada ponto - se não especificado, o valor de default é o passado para o construtor; Podemos especificar também se queremos ou não que ele retorne a distância do ponto para cada vizinho encontrado.\n",
    "\n",
    "    \n",
    "    -> Retorna: Retorna a distância de cada vizinho encontrado (Se especificado que true) e o índice de cada vizinho achado na matriz da nossa vizinhança.\n",
    "\n"
   ]
  },
  {
   "cell_type": "markdown",
   "metadata": {},
   "source": [
    "    Parâmetro metric"
   ]
  },
  {
   "cell_type": "markdown",
   "metadata": {},
   "source": [
    "Define qual será a medição que regrará a distância - ou dissimilaridade - medida entre dois pontos de dados. A escolha desse parâmetro é muito importante, pois será ela que determinará o que o algoritmo define como próximo/similar. Alumas opções:\n",
    "\n",
    "1. _Euclidean_:\n",
    "\n",
    " A métrica padrão do NearestNeighbors. É a distância em linha reta entre dois pontos, como você mediria com uma régua. É a mais intuitiva no mundo físico e funciona bem para dados de baixa dimensão e densos, onde a magnitude (o valor absoluto) das features é importante. É também conhecida como distância L2.\n",
    "\n",
    "\n",
    "2. _Cossine_:\n",
    "\n",
    "    A similaridade de cosseno mede a semelhança entre itens focando na direção de seus vetores de características, e não em sua magnitude ou distância. O resultado varia de 1 (mesma direção/tema) a 0 (temas não relacionados). Ao ignorar a quantidade de atributos para se concentrar puramente na composição do conteúdo, ela é a métrica ideal para comparar a semelhança entre textos ou gêneros de filmes.\n",
    "\n",
    "\n",
    "3. _Jaccard_ :\n",
    "\n",
    "    Foi projetada especificamente para conjuntos de dados binários, que é exatamente o que o MultiLabelBinarizer cria. A distância Jaccard mede a dissimilaridade entre dois conjuntos. Ela é calculada como 1 menos o tamanho da interseção dos conjuntos dividido pelo tamanho da união. Em termos simples, ela responde: \"Qual a porcentagem de gêneros que os dois filmes não têm em comum?\".\n",
    "\n",
    "\n",
    "mais info sobre metrics: https://www.kdnuggets.com/2020/11/most-popular-distance-metrics-knn.html\n",
    "documentacao do metodo: https://scikit-learn.org/stable/modules/generated/sklearn.neighbors.NearestNeighbors.html\n",
    "\n",
    "\n",
    "// COLOCAR DEFINICAO DE CADA METODO E CLASSE\n",
    "// ESTRUTURAR MELHOR\n"
   ]
  },
  {
   "cell_type": "markdown",
   "metadata": {},
   "source": [
    "### KNeighborsClassifier()"
   ]
  },
  {
   "cell_type": "markdown",
   "metadata": {},
   "source": [
    "    pesquisar dps"
   ]
  },
  {
   "cell_type": "markdown",
   "metadata": {},
   "source": [
    "### KNeighborsRegressor()"
   ]
  },
  {
   "cell_type": "markdown",
   "metadata": {},
   "source": [
    "    pesquisar dps"
   ]
  }
 ],
 "metadata": {
  "kernelspec": {
   "display_name": "Python 3",
   "language": "python",
   "name": "python3"
  },
  "language_info": {
   "codemirror_mode": {
    "name": "ipython",
    "version": 3
   },
   "file_extension": ".py",
   "mimetype": "text/x-python",
   "name": "python",
   "nbconvert_exporter": "python",
   "pygments_lexer": "ipython3",
   "version": "3.10.12"
  }
 },
 "nbformat": 4,
 "nbformat_minor": 2
}
