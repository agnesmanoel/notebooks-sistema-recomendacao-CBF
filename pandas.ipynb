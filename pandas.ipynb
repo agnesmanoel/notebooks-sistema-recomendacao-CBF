{
 "cells": [
  {
   "cell_type": "markdown",
   "metadata": {},
   "source": [
    " Um DataFrame pode ser visto como um dicionário de Series, onde as chaves são os nomes das colunas e os valores são as próprias Series. Esta é a estrutura de dados mais utilizada na biblioteca."
   ]
  }
 ],
 "metadata": {
  "language_info": {
   "name": "python"
  }
 },
 "nbformat": 4,
 "nbformat_minor": 2
}
