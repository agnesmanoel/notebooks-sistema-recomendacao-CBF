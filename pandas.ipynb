{
 "cells": [
  {
   "cell_type": "markdown",
   "metadata": {},
   "source": [
    "# Pandas "
   ]
  },
  {
   "cell_type": "code",
   "execution_count": 2,
   "metadata": {},
   "outputs": [],
   "source": [
    "import pandas as pd"
   ]
  },
  {
   "cell_type": "markdown",
   "metadata": {},
   "source": [
    "Pandas é uma biblioteca em Python muito conhecida e usada para manipulação e análise de Dados. Essa biblioteca fornece estruturas de dados e funções que deixam a manipulação de dados estruturados, como tabelas e time series, muito fáceis.  \n",
    "\n",
    "Essas estruturas de dados são as séries e os DataFrames"
   ]
  },
  {
   "cell_type": "markdown",
   "metadata": {},
   "source": [
    "### **Séries**"
   ]
  },
  {
   "cell_type": "markdown",
   "metadata": {},
   "source": [
    "Series é um array de uma dimensão rotulado que pode cotem qualquer tipo de dado."
   ]
  },
  {
   "cell_type": "code",
   "execution_count": null,
   "metadata": {},
   "outputs": [],
   "source": [
    "nomes = ['joao','carla','carol','julia','maria','sonia']\n",
    "serie = pd.Series(data=nomes,index=index)\n",
    "print(serie)"
   ]
  },
  {
   "cell_type": "markdown",
   "metadata": {},
   "source": [
    "##### Tipo do dado e parâmetro índice"
   ]
  },
  {
   "cell_type": "markdown",
   "metadata": {},
   "source": [
    "O argumento do dado pode ser um _dicionário python_ , um _ndarray_ ou um _escalar_.\n",
    "\n",
    "Os nomes dos rótulos é chamado de índice - index. O parâmetro índice e seu argumento pode variar de acordo com o tipo de dado."
   ]
  },
  {
   "cell_type": "markdown",
   "metadata": {},
   "source": [
    "* _Se o valor do dado é um array_:  O argumento index deve ter o mesmo tamanho que o tamanho do array. Se nenhum index for passado como valor, o programa criará um automaticamente, sendo [0,1...tamanho(array)-1]"
   ]
  },
  {
   "cell_type": "code",
   "execution_count": null,
   "metadata": {},
   "outputs": [],
   "source": [
    "#Não passando indice\n",
    "cidade = ['rio de janeiro','sao paulo','campinas','limeira']\n",
    "cidade_s = pd.Series(cidade)\n",
    "print(cidade_s)\n",
    "\n",
    "print(\" \")\n",
    "\n",
    "#Passando o índice\n",
    "nome = ['agnes','julia','carol','lina']\n",
    "ra =[10,12,13,14]\n",
    "aluno_s = pd.Series(data=nome,index=ra)\n",
    "print(aluno_s)"
   ]
  },
  {
   "cell_type": "markdown",
   "metadata": {},
   "source": [
    "* _Se o valor do dado é um dicionário python_:  Os índices serão as respectivas chaves de cada valor. Se você passar um índice, o pandas irá buscar em data apenas os valores cujos rótulos coincidirem com os do índice fornecido."
   ]
  },
  {
   "cell_type": "code",
   "execution_count": null,
   "metadata": {},
   "outputs": [],
   "source": [
    "#Não passando um índice\n",
    "nomes_idades = {15:'agnes',16:'julia',17:'carol'}\n",
    "nomes_idades_s = pd.Series(data=nomes_idades)\n",
    "print(nomes_idades_s)\n",
    "\n",
    "print(\"\")\n",
    "\n",
    "#Passando um índice\n",
    "cidades = {1000: 'rio',4000:\"sp\"}\n",
    "cidade_s = pd.Series(data=cidades,index=[1000])\n",
    "print(cidade_s)"
   ]
  },
  {
   "cell_type": "markdown",
   "metadata": {},
   "source": [
    "* Se valor do dado for um escalar: Um índice DEVE ser passasdo. O tamanho desses índices será a quantidade de repetições do escalar."
   ]
  },
  {
   "cell_type": "code",
   "execution_count": null,
   "metadata": {},
   "outputs": [],
   "source": [
    "escalar = pd.Series(5,[1,2,3])\n",
    "print(escalar)"
   ]
  },
  {
   "cell_type": "markdown",
   "metadata": {},
   "source": [
    "#### Serie sendo um x-like"
   ]
  },
  {
   "cell_type": "markdown",
   "metadata": {},
   "source": [
    "* Série é um ndarray-like: Isso implica que série é um argumento válido apra várias funcões numpy."
   ]
  },
  {
   "cell_type": "markdown",
   "metadata": {},
   "source": [
    "* Série é um dict-like: Com isso podemos pegar valores de uma série a partir de seu índice, como um dicionário."
   ]
  },
  {
   "cell_type": "code",
   "execution_count": null,
   "metadata": {},
   "outputs": [],
   "source": [
    "nomes_idades = {15:'agnes',16:'julia',17:'carol'}\n",
    "nomes_idades_s = pd.Series(data=nomes_idades)\n",
    "print(nomes_idades_s[15])"
   ]
  },
  {
   "cell_type": "markdown",
   "metadata": {},
   "source": [
    "#### Name tributte"
   ]
  },
  {
   "cell_type": "markdown",
   "metadata": {},
   "source": [
    "Séries tem um tributo nome. Esse tributo pode ser passado manualmente - mas em geral, ele é automaticamente preenchido quando selecionamos uma coluna de um dataframe, essa coluna é uma série e nome dessa série e preenchido com o nome da coluna. "
   ]
  },
  {
   "cell_type": "code",
   "execution_count": null,
   "metadata": {},
   "outputs": [],
   "source": [
    "cidades = ['rio','sao paulo','campinas']\n",
    "cidades_s = pd.Series(data= cidades, name = 'cidades que morei')\n",
    "print(cidades_s)"
   ]
  },
  {
   "cell_type": "markdown",
   "metadata": {},
   "source": [
    "fonte: https://pandas.pydata.org/docs/user_guide/dsintro.html"
   ]
  },
  {
   "cell_type": "markdown",
   "metadata": {},
   "source": []
  },
  {
   "cell_type": "markdown",
   "metadata": {},
   "source": [
    "### **DataFrames**"
   ]
  }
 ],
 "metadata": {
  "kernelspec": {
   "display_name": "Python 3",
   "language": "python",
   "name": "python3"
  },
  "language_info": {
   "codemirror_mode": {
    "name": "ipython",
    "version": 3
   },
   "file_extension": ".py",
   "mimetype": "text/x-python",
   "name": "python",
   "nbconvert_exporter": "python",
   "pygments_lexer": "ipython3",
   "version": "3.10.12"
  }
 },
 "nbformat": 4,
 "nbformat_minor": 2
}
