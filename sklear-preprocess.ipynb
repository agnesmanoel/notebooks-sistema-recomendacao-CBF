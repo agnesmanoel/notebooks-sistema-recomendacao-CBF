{
 "cells": [
  {
   "cell_type": "markdown",
   "metadata": {},
   "source": [
    "## Importar biblioteca e método"
   ]
  },
  {
   "cell_type": "code",
   "execution_count": 3,
   "metadata": {},
   "outputs": [],
   "source": [
    "from sklearn.preprocessing import OneHotEncoder\n",
    "from sklearn.preprocessing import MultiLabelBinarizer\n",
    "import pandas as pd\n",
    "import numpy as np"
   ]
  },
  {
   "cell_type": "markdown",
   "metadata": {},
   "source": [
    "## Conceitos e ferramentas"
   ]
  },
  {
   "cell_type": "markdown",
   "metadata": {},
   "source": [
    "Sci-kit learn é uma biblioteca de python muito famosa pela sua fácil implementação em projetos de ML.\n",
    "\n",
    "_Vou falar agora sobre uma das pré-etapas mais importantes: preparar seus dados e traduzi-los para uma forma em que o computador entenda._\n",
    "\n",
    "Sklearn.preprocessing é um módulo dentro dessa biblioteca que possui diversas funções para pre-processamento de dados - ou seja, preparar os dados para as aplicações, formatando-os para um formato compatível com futuras aplicações - um formato numérico limpo e padronizado, para que os algoritmos de machine learning, que são modelos matemáticos, consigam entender e aprender com os dados de forma eficiente.\n",
    "\n",
    "Antes de comentarmos sobre as principais funções do módulo Sci-kit learn, vamos brevemente comentar sobre dados e suas características.\n",
    "\n"
   ]
  },
  {
   "cell_type": "markdown",
   "metadata": {},
   "source": [
    "### Dados e suas categorias.\n"
   ]
  },
  {
   "cell_type": "markdown",
   "metadata": {},
   "source": [
    "Entender como os dados se dividem será importante na hora de usarmos o módulo preprossecing do sci-kit. Isso porque temos métodos que diferenciam-se sutilmente de acordo com o tipo de dado que estamos usando - ou seja, qual pre-processamento usar. \n"
   ]
  },
  {
   "cell_type": "markdown",
   "metadata": {},
   "source": [
    "\n",
    "1. Dados Qualitativos:\n",
    "\n",
    "\n",
    "    Dados qualitativos são aqueles que descrevem uma característica a respeito de um dado. Dentro dessa classificação ainda temos os Dados qualitativos nominais, que representam os dados que não possuem nenhuma ordem de hierarquia entre si, e os dados qualitativos ordinais, que possuem uma ordem de hierarquia entre si. \n",
    "\n",
    "\n",
    "    Exemplo: [AZUL, VERDE, AMARELO] - Dado qualitativo nominal. \n",
    "\n",
    "    Exemplo: [BOM, ÓTIMO, EXCELENTE] - Dado qualitativo ordinal.\n",
    "\n",
    "    \n"
   ]
  },
  {
   "cell_type": "markdown",
   "metadata": {},
   "source": [
    "    \n",
    "\n",
    "2. Dados quantitativos:\n",
    "\n",
    "    Dados quantitativos são aqueles que descrevem quantitade - ou seja, expressos unicamente como números. Temos também aqui outras duas distinções: Dados quantitativos discretos e Dados quantitativos contínuos.\n",
    "\n",
    "\n",
    "     Os dados discretos são os números \"Que podem ser contados\" e não assumem uma incerteza - exemplo, quantidade de dedos que você tem na mão (5, eu espero :p)\n",
    "     \n",
    "    \n",
    "     Os dados contínuos são aquelas cujo seu valor está associado a uma incerteza (Lembra de física experimental 1? Onde uma certa medição poderia ter uma incerteza de +/- 0.05? Os dados contínuos seguem a mesma linha), com isso podemos associar dados conitínuos a medições, onde podem assumir qualquer valor dentro de um intervalo e geralmente são representados por decimais.\n",
    "\n",
    "\n",
    "    \n"
   ]
  },
  {
   "cell_type": "markdown",
   "metadata": {},
   "source": [
    "fonte: https://www.geeksforgeeks.org/data-types-in-statistics/"
   ]
  },
  {
   "cell_type": "markdown",
   "metadata": {},
   "source": [
    "### OneHotEncoder "
   ]
  },
  {
   "cell_type": "markdown",
   "metadata": {},
   "source": [
    "\n",
    "Aqui temos uma classe utilizada para pre-processar dados categóricos nominais. Esse método é responsável por criar uma representação vetorial de cada Item do nosso dataseat, relacionando uma característica presente a ele com um algarimso 1 em seu vetor."
   ]
  },
  {
   "cell_type": "code",
   "execution_count": 4,
   "metadata": {},
   "outputs": [
    {
     "name": "stdout",
     "output_type": "stream",
     "text": [
      "[[1. 0. 0.]\n",
      " [0. 0. 1.]\n",
      " [0. 1. 0.]\n",
      " [0. 1. 0.]]\n"
     ]
    }
   ],
   "source": [
    "cores = [['AZUL'],['PRETO'],['BRANCO'],['BRANCO']]\n",
    "\n",
    "encoder = OneHotEncoder(sparse_output=False)\n",
    "matriz = encoder.fit_transform(cores)\n",
    "print(matriz)"
   ]
  },
  {
   "cell_type": "markdown",
   "metadata": {},
   "source": [
    "\n",
    "O OneHot encolder recebe como dados um array 2D. Observe que nosso array cores é um array 2D - Uma lista de listas. \n",
    "O array cores nesse formato é interpretado como uma tabela de três linhas e uma coluna.\n",
    "Quando estamos mexendo com Dataframe, podemos pegar uma coluna dele e passar como parâmetro para o objeto. \n"
   ]
  },
  {
   "cell_type": "code",
   "execution_count": null,
   "metadata": {},
   "outputs": [],
   "source": [
    "data = {\n",
    "    'Cidade': ['São Paulo', 'Rio de Janeiro', 'Campinas', 'São Paulo', 'Belo Horizonte', 'Rio de Janeiro', 'Campinas', 'Salvador'],\n",
    "    'Idade': [28, 35, 41, 22, 54, 39, 48, 29],\n",
    "    'Nivel_Cliente': ['Prata', 'Ouro', 'Prata', 'Bronze', 'Ouro', 'Prata', 'Ouro', 'Bronze'],\n",
    "    'Pontos': [150, 800, 210, 50, 1200, 300, 950, 75],\n",
    "    'Comprou_Ultimo_Mes': [1, 1, 0, 0, 1, 1, 1, 0]\n",
    "}\n",
    "\n",
    "tabelaClientes = pd.DataFrame(data)\n",
    "\n",
    "#Podemos obter uma coluna de um dataframe de duas formas:\n",
    "\n",
    "colunaCidades1 = tabelaClientes['Cidade']\n",
    "colunaCidades2 = tabelaClientes[['Cidade']]\n",
    "\n",
    "#A colunaCidade1 retorna um SerieID - uma estrutura de dados 1D\n",
    "#A colunaCidade2 retorna um novo DataFrame - 2D\n",
    "\n",
    "encoder = OneHotEncoder(sparse_output=False)\n",
    "\n",
    "cidades1 = encoder.fit_transform(colunaCidades2)\n",
    "print(cidades1)\n",
    "\n",
    "print(\" \")\n",
    "\n",
    "#Entender melhor o reshape e escrever\n",
    "cidades2 = encoder.fit_transform(colunaCidades1.values.reshape(-1,1))\n",
    "print(cidades2)\n"
   ]
  },
  {
   "cell_type": "markdown",
   "metadata": {},
   "source": [
    "Por padrão, a classe encoder retorna uma matriz esparsa (colocar a definicao de matriz esparsa). Para melhor visualização, podemos mudar o atributo sparse_out para falso e obtermos aquela matriz mais tradicional c:\n",
    "\n",
    "Essa matriz é o que chamamos de matriz item x característica. Cada linha representa um item, cada coluna, uma característica."
   ]
  },
  {
   "cell_type": "markdown",
   "metadata": {},
   "source": [
    "Os métodos .fit() e .transfomr() são essenciais para o funcionamento completo do nosso encoder.\n",
    "\n",
    "\n",
    "\n",
    "1. fit() é o método que aprende com nossos dados para criar um mapa de índices. No processo, o encoder analisa as linhas do array de entrada, identifica cada categoria única e, então, associa um índice numérico a ela. O resultado é uma legenda interna que conecta cada valor de texto distinto a uma posição numérica específica.\n",
    "\n",
    "\n",
    "2. O .transform() é o método que executa a transformação: ele pega o \"mapa\" criado pelo .fit() e o usa para converter os dados originais em um novo array numérico."
   ]
  },
  {
   "cell_type": "markdown",
   "metadata": {},
   "source": [
    "-----------------------"
   ]
  },
  {
   "cell_type": "markdown",
   "metadata": {},
   "source": [
    "    Para sintetizar o que o encoder faz:\n",
    "\n",
    "Dado uma coluna de um dataframe, o encoder - junto com o método fit e tranform - primeiramente analise todas as características únicas de cada linha e á elas associa um index.\n",
    "\n",
    "Feito isso, agora ele pega cada item e cria um grande vetor, onde cada indice sera abstratamente uma característica - seguindo as associações feita anteriormente.\n",
    "\n",
    "Se o vetor A tem a característica Z, representado pelo indice 3, então, supondo 6 características no total, o vetor A pode ser representado por:\n",
    "\n",
    " [0,0,0,1,0,0]"
   ]
  },
  {
   "cell_type": "markdown",
   "metadata": {},
   "source": [
    "    Atenção\n",
    "    \n",
    "O OneHotEncoder *APENAS* funciona com items que tem UMA característica. Para algo multilabel, usamos o multilabel binarize."
   ]
  },
  {
   "cell_type": "markdown",
   "metadata": {},
   "source": [
    "Documentação: https://scikit-learn.org/stable/modules/generated/sklearn.preprocessing.OneHotEncoder.html"
   ]
  },
  {
   "cell_type": "markdown",
   "metadata": {},
   "source": [
    "------"
   ]
  },
  {
   "cell_type": "markdown",
   "metadata": {},
   "source": [
    "### MultiLabelBinarizer"
   ]
  },
  {
   "cell_type": "markdown",
   "metadata": {},
   "source": [
    "O multilabelbinarizer também é uma classe do slklearn.preprocessing usada para preprocessar dados categóricos nominais. Ele diferencia-se do OneHotEncoder por ter a capacidade de associar mais de uma característica a um item. "
   ]
  },
  {
   "cell_type": "markdown",
   "metadata": {},
   "source": [
    "O transformador MUltiLabelBinarizer recebe como parâmetro uma lista de listas e transforma-a em um formato multi-rótulo."
   ]
  },
  {
   "cell_type": "code",
   "execution_count": 5,
   "metadata": {},
   "outputs": [
    {
     "name": "stdout",
     "output_type": "stream",
     "text": [
      "[[0 0 0 1 1]\n",
      " [1 0 0 0 0]\n",
      " [0 1 0 0 0]\n",
      " [1 0 1 0 0]\n",
      " [0 0 0 1 1]]\n"
     ]
    }
   ],
   "source": [
    "generos = [['Terror','Suspense'],['Ação'],['Comédia, Aventura'],['Romance','Ação'],['Terror','Suspense']]\n",
    "\n",
    "encoderMB = MultiLabelBinarizer(sparse_output=False)\n",
    "matrixIC = encoderMB.fit_transform(generos)\n",
    "print(matrixIC)"
   ]
  },
  {
   "cell_type": "markdown",
   "metadata": {},
   "source": [
    "Diferenre do OneHotEncoder, aqui podemos - e devemos - usar a estrutura series do pandas."
   ]
  },
  {
   "cell_type": "markdown",
   "metadata": {},
   "source": [
    "Documentação: https://scikit-learn.org/stable/modules/generated/sklearn.preprocessing.MultiLabelBinarizer.html\n",
    "\n",
    "Outro link: https://www.kdnuggets.com/2023/01/encoding-categorical-features-multilabelbinarizer.html"
   ]
  },
  {
   "cell_type": "markdown",
   "metadata": {},
   "source": [
    "### OrdinalEncoder"
   ]
  },
  {
   "cell_type": "markdown",
   "metadata": {},
   "source": [
    "pesquisar"
   ]
  }
 ],
 "metadata": {
  "kernelspec": {
   "display_name": "Python 3",
   "language": "python",
   "name": "python3"
  },
  "language_info": {
   "codemirror_mode": {
    "name": "ipython",
    "version": 3
   },
   "file_extension": ".py",
   "mimetype": "text/x-python",
   "name": "python",
   "nbconvert_exporter": "python",
   "pygments_lexer": "ipython3",
   "version": "3.10.12"
  }
 },
 "nbformat": 4,
 "nbformat_minor": 2
}
